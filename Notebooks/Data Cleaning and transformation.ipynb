{
 "cells": [
  {
   "cell_type": "code",
   "execution_count": 0,
   "metadata": {
    "application/vnd.databricks.v1+cell": {
     "cellMetadata": {
      "byteLimit": 2048000,
      "rowLimit": 10000
     },
     "inputWidgets": {},
     "nuid": "c4d63df9-09d1-43e9-8745-64b8c7af0cd1",
     "showTitle": false,
     "tableResultSettingsMap": {},
     "title": ""
    }
   },
   "outputs": [],
   "source": [
    "# Read all CSVs into Spark DataFrames\n",
    "df_customers = spark.read.option(\"header\", True).csv(\"dbfs:/Volumes/commerce_spark_workspace/default/ecommerce_raw/olist_customers_dataset.csv\")\n",
    "df_geolocation = spark.read.option(\"header\", True).csv(\"dbfs:/Volumes/commerce_spark_workspace/default/ecommerce_raw/olist_geolocation_dataset.csv\")\n",
    "df_order_items = spark.read.option(\"header\", True).csv(\"dbfs:/Volumes/commerce_spark_workspace/default/ecommerce_raw/olist_order_items_dataset.csv\")\n",
    "df_order_payments = spark.read.option(\"header\", True).csv(\"dbfs:/Volumes/commerce_spark_workspace/default/ecommerce_raw/olist_order_payments_dataset.csv\")\n",
    "df_order_reviews = spark.read.option(\"header\", True).csv(\"dbfs:/Volumes/commerce_spark_workspace/default/ecommerce_raw/olist_order_reviews_dataset.csv\")\n",
    "df_orders = spark.read.option(\"header\", True).csv(\"dbfs:/Volumes/commerce_spark_workspace/default/ecommerce_raw/olist_orders_dataset.csv\")\n",
    "df_products = spark.read.option(\"header\", True).csv(\"dbfs:/Volumes/commerce_spark_workspace/default/ecommerce_raw/olist_products_dataset.csv\")\n",
    "df_sellers = spark.read.option(\"header\", True).csv(\"dbfs:/Volumes/commerce_spark_workspace/default/ecommerce_raw/olist_sellers_dataset.csv\")\n",
    "df_product_category_name_translation = spark.read.option(\"header\", True).csv(\"dbfs:/Volumes/commerce_spark_workspace/default/ecommerce_raw/product_category_name_translation.csv\")\n"
   ]
  },
  {
   "cell_type": "code",
   "execution_count": 0,
   "metadata": {
    "application/vnd.databricks.v1+cell": {
     "cellMetadata": {
      "byteLimit": 2048000,
      "rowLimit": 10000
     },
     "inputWidgets": {},
     "nuid": "f489c440-1e88-4ba4-99d7-f3f39fa8b480",
     "showTitle": false,
     "tableResultSettingsMap": {},
     "title": ""
    }
   },
   "outputs": [
    {
     "output_type": "stream",
     "name": "stdout",
     "output_type": "stream",
     "text": [
      "+--------------------+--------------------+------------------------+--------------------+--------------+\n|         customer_id|  customer_unique_id|customer_zip_code_prefix|       customer_city|customer_state|\n+--------------------+--------------------+------------------------+--------------------+--------------+\n|06b8999e2fba1a1fb...|861eff4711a542e4b...|                   14409|              franca|            SP|\n|18955e83d337fd6b2...|290c77bc529b7ac93...|                   09790|sao bernardo do c...|            SP|\n|4e7b3e00288586ebd...|060e732b5b29e8181...|                   01151|           sao paulo|            SP|\n|b2b6027bc5c5109e5...|259dac757896d24d7...|                   08775|     mogi das cruzes|            SP|\n|4f2d8ab171c80ec83...|345ecd01c38d18a90...|                   13056|            campinas|            SP|\n|879864dab9bc30475...|4c93744516667ad3b...|                   89254|      jaragua do sul|            SC|\n|fd826e7cf63160e53...|addec96d2e059c80c...|                   04534|           sao paulo|            SP|\n|5e274e7a0c3809e14...|57b2a98a409812fe9...|                   35182|             timoteo|            MG|\n|5adf08e34b2e99398...|1175e95fb47ddff9d...|                   81560|            curitiba|            PR|\n|4b7139f34592b3a31...|9afe194fb833f79e3...|                   30575|      belo horizonte|            MG|\n|9fb35e4ed6f0a14a4...|2a7745e1ed516b289...|                   39400|       montes claros|            MG|\n|5aa9e4fdd4dfd2095...|2a46fb94aef5cbeeb...|                   20231|      rio de janeiro|            RJ|\n|b2d1536598b73a9ab...|918dc87cd72cd9f6e...|                   18682|    lencois paulista|            SP|\n|eabebad39a88bb6f5...|295c05e81917928d7...|                   05704|           sao paulo|            SP|\n|1f1c7bf1c9b041b29...|3151a81801c838636...|                   95110|       caxias do sul|            RS|\n|206f3129c0e4d7d0b...|21f748a16f4e1688a...|                   13412|          piracicaba|            SP|\n|a7c125a0a07b75146...|5c2991dbd08bbf3cf...|                   22750|      rio de janeiro|            RJ|\n|c5c61596a3b6bd0ce...|b6e99561fe6f34a55...|                   07124|           guarulhos|            SP|\n|9b8ce803689b3562d...|7f3a72e8f988c6e73...|                   05416|           sao paulo|            SP|\n|49d0ea0986edde72d...|3e6fd6b2f0d499456...|                   68485|              pacaja|            PA|\n+--------------------+--------------------+------------------------+--------------------+--------------+\nonly showing top 20 rows\n"
     ]
    }
   ],
   "source": [
    "df_customers.show()"
   ]
  },
  {
   "cell_type": "code",
   "execution_count": 0,
   "metadata": {
    "application/vnd.databricks.v1+cell": {
     "cellMetadata": {
      "byteLimit": 2048000,
      "rowLimit": 10000
     },
     "inputWidgets": {},
     "nuid": "b4e11780-e72d-41ff-91c0-8dd72fd6eaf7",
     "showTitle": false,
     "tableResultSettingsMap": {},
     "title": ""
    }
   },
   "outputs": [],
   "source": [
    "#Identifying Missing Values\n",
    "from pyspark.sql.functions import col, count, when\n",
    "\n",
    "def missing_values(df, df_name):\n",
    "    print(f\"\\nMissing values in {df_name}:\")\n",
    "    df.select([count(when(col(c).isNull(), 1)).alias(c) for c in df.columns]).show(truncate=False)"
   ]
  },
  {
   "cell_type": "code",
   "execution_count": 0,
   "metadata": {
    "application/vnd.databricks.v1+cell": {
     "cellMetadata": {
      "byteLimit": 2048000,
      "rowLimit": 10000
     },
     "inputWidgets": {},
     "nuid": "cca7df53-6952-4a2d-8b02-5b0084df9d84",
     "showTitle": false,
     "tableResultSettingsMap": {},
     "title": ""
    }
   },
   "outputs": [
    {
     "output_type": "stream",
     "name": "stdout",
     "output_type": "stream",
     "text": [
      "\nMissing values in customers:\n+-----------+------------------+------------------------+-------------+--------------+\n|customer_id|customer_unique_id|customer_zip_code_prefix|customer_city|customer_state|\n+-----------+------------------+------------------------+-------------+--------------+\n|0          |0                 |0                       |0            |0             |\n+-----------+------------------+------------------------+-------------+--------------+\n\n\nMissing values in geolocation:\n+---------------------------+---------------+---------------+----------------+-----------------+\n|geolocation_zip_code_prefix|geolocation_lat|geolocation_lng|geolocation_city|geolocation_state|\n+---------------------------+---------------+---------------+----------------+-----------------+\n|0                          |0              |0              |0               |0                |\n+---------------------------+---------------+---------------+----------------+-----------------+\n\n\nMissing values in order_items:\n+--------+-------------+----------+---------+-------------------+-----+-------------+\n|order_id|order_item_id|product_id|seller_id|shipping_limit_date|price|freight_value|\n+--------+-------------+----------+---------+-------------------+-----+-------------+\n|0       |0            |0         |0        |0                  |0    |0            |\n+--------+-------------+----------+---------+-------------------+-----+-------------+\n\n\nMissing values in order_payments:\n+--------+------------------+------------+--------------------+-------------+\n|order_id|payment_sequential|payment_type|payment_installments|payment_value|\n+--------+------------------+------------+--------------------+-------------+\n|0       |0                 |0           |0                   |0            |\n+--------+------------------+------------+--------------------+-------------+\n\n\nMissing values in order_reviews:\n+---------+--------+------------+--------------------+----------------------+--------------------+-----------------------+\n|review_id|order_id|review_score|review_comment_title|review_comment_message|review_creation_date|review_answer_timestamp|\n+---------+--------+------------+--------------------+----------------------+--------------------+-----------------------+\n|1        |2236    |2380        |92157               |63079                 |8764                |8785                   |\n+---------+--------+------------+--------------------+----------------------+--------------------+-----------------------+\n\n\nMissing values in orders:\n+--------+-----------+------------+------------------------+-----------------+----------------------------+-----------------------------+-----------------------------+\n|order_id|customer_id|order_status|order_purchase_timestamp|order_approved_at|order_delivered_carrier_date|order_delivered_customer_date|order_estimated_delivery_date|\n+--------+-----------+------------+------------------------+-----------------+----------------------------+-----------------------------+-----------------------------+\n|0       |0          |0           |0                       |160              |1783                        |2965                         |0                            |\n+--------+-----------+------------+------------------------+-----------------+----------------------------+-----------------------------+-----------------------------+\n\n\nMissing values in products:\n+----------+---------------------+-------------------+--------------------------+------------------+----------------+-----------------+-----------------+----------------+\n|product_id|product_category_name|product_name_lenght|product_description_lenght|product_photos_qty|product_weight_g|product_length_cm|product_height_cm|product_width_cm|\n+----------+---------------------+-------------------+--------------------------+------------------+----------------+-----------------+-----------------+----------------+\n|0         |610                  |610                |610                       |610               |2               |2                |2                |2               |\n+----------+---------------------+-------------------+--------------------------+------------------+----------------+-----------------+-----------------+----------------+\n\n\nMissing values in sellers:\n+---------+----------------------+-----------+------------+\n|seller_id|seller_zip_code_prefix|seller_city|seller_state|\n+---------+----------------------+-----------+------------+\n|0        |0                     |0          |0           |\n+---------+----------------------+-----------+------------+\n\n\nMissing values in product_category_name_translation:\n+---------------------+-----------------------------+\n|product_category_name|product_category_name_english|\n+---------------------+-----------------------------+\n|0                    |0                            |\n+---------------------+-----------------------------+\n\n"
     ]
    }
   ],
   "source": [
    "missing_values(df_customers, \"customers\")\n",
    "missing_values(df_geolocation, \"geolocation\")\n",
    "missing_values(df_order_items, \"order_items\")\n",
    "missing_values(df_order_payments, \"order_payments\")\n",
    "missing_values(df_order_reviews, \"order_reviews\")\n",
    "missing_values(df_orders, \"orders\")\n",
    "missing_values(df_products, \"products\")\n",
    "missing_values(df_sellers, \"sellers\")\n",
    "missing_values(df_product_category_name_translation, \"product_category_name_translation\")\n"
   ]
  },
  {
   "cell_type": "markdown",
   "metadata": {
    "application/vnd.databricks.v1+cell": {
     "cellMetadata": {
      "byteLimit": 2048000,
      "rowLimit": 10000
     },
     "inputWidgets": {},
     "nuid": "2eb0546f-8b5a-4dd2-a1a3-58cd430ae662",
     "showTitle": false,
     "tableResultSettingsMap": {},
     "title": ""
    }
   },
   "source": [
    "## Handle Missing Values\n",
    "\n",
    "1. **Drop Missing Values**\n",
    "2. **Fill Missing Values**\n",
    "3. **Impute Missing Values**\n"
   ]
  },
  {
   "cell_type": "code",
   "execution_count": 0,
   "metadata": {
    "application/vnd.databricks.v1+cell": {
     "cellMetadata": {
      "byteLimit": 2048000,
      "rowLimit": 10000
     },
     "inputWidgets": {},
     "nuid": "ef675627-bc4a-453c-9404-9ca5ff7b59e7",
     "showTitle": false,
     "tableResultSettingsMap": {},
     "title": ""
    }
   },
   "outputs": [
    {
     "output_type": "stream",
     "name": "stdout",
     "output_type": "stream",
     "text": [
      "+--------------------+--------------------+------------+------------------------+-------------------+----------------------------+-----------------------------+-----------------------------+\n|            order_id|         customer_id|order_status|order_purchase_timestamp|  order_approved_at|order_delivered_carrier_date|order_delivered_customer_date|order_estimated_delivery_date|\n+--------------------+--------------------+------------+------------------------+-------------------+----------------------------+-----------------------------+-----------------------------+\n|e481f51cbdc54678b...|9ef432eb625129730...|   delivered|     2017-10-02 10:56:33|2017-10-02 11:07:15|         2017-10-04 19:55:00|          2017-10-10 21:25:13|          2017-10-18 00:00:00|\n|53cdb2fc8bc7dce0b...|b0830fb4747a6c6d2...|   delivered|     2018-07-24 20:41:37|2018-07-26 03:24:27|         2018-07-26 14:31:00|          2018-08-07 15:27:45|          2018-08-13 00:00:00|\n|47770eb9100c2d0c4...|41ce2a54c0b03bf34...|   delivered|     2018-08-08 08:38:49|2018-08-08 08:55:23|         2018-08-08 13:50:00|          2018-08-17 18:06:29|          2018-09-04 00:00:00|\n|949d5b44dbf5de918...|f88197465ea7920ad...|   delivered|     2017-11-18 19:28:06|2017-11-18 19:45:59|         2017-11-22 13:39:59|          2017-12-02 00:28:42|          2017-12-15 00:00:00|\n|ad21c59c0840e6cb8...|8ab97904e6daea886...|   delivered|     2018-02-13 21:18:39|2018-02-13 22:20:29|         2018-02-14 19:46:34|          2018-02-16 18:17:02|          2018-02-26 00:00:00|\n|a4591c265e18cb1dc...|503740e9ca751ccdd...|   delivered|     2017-07-09 21:57:05|2017-07-09 22:10:13|         2017-07-11 14:58:04|          2017-07-26 10:57:55|          2017-08-01 00:00:00|\n|136cce7faa42fdb2c...|ed0271e0b7da060a3...|    invoiced|     2017-04-11 12:22:08|2017-04-13 13:25:17|         2025-01-03 00:00:00|          2025-01-04 00:00:00|          2017-05-09 00:00:00|\n|6514b8ad8028c9f2c...|9bdf08b4b3b52b552...|   delivered|     2017-05-16 13:10:30|2017-05-16 13:22:11|         2017-05-22 10:07:46|          2017-05-26 12:55:51|          2017-06-07 00:00:00|\n|76c6e866289321a7c...|f54a9f0e6b351c431...|   delivered|     2017-01-23 18:29:09|2017-01-25 02:50:47|         2017-01-26 14:16:31|          2017-02-02 14:08:10|          2017-03-06 00:00:00|\n|e69bfb5eb88e0ed6a...|31ad1d1b63eb99624...|   delivered|     2017-07-29 11:55:02|2017-07-29 12:05:32|         2017-08-10 19:45:24|          2017-08-16 17:14:30|          2017-08-23 00:00:00|\n|e6ce16cb79ec1d90b...|494dded5b201313c6...|   delivered|     2017-05-16 19:41:10|2017-05-16 19:50:18|         2017-05-18 11:40:40|          2017-05-29 11:18:31|          2017-06-07 00:00:00|\n|34513ce0c4fab462a...|7711cf624183d843a...|   delivered|     2017-07-13 19:58:11|2017-07-13 20:10:08|         2017-07-14 18:43:29|          2017-07-19 14:04:48|          2017-08-08 00:00:00|\n|82566a660a982b15f...|d3e3b74c766bc6214...|   delivered|     2018-06-07 10:06:19|2018-06-09 03:13:12|         2018-06-11 13:29:00|          2018-06-19 12:05:52|          2018-07-18 00:00:00|\n|5ff96c15d0b717ac6...|19402a48fe860416a...|   delivered|     2018-07-25 17:44:10|2018-07-25 17:55:14|         2018-07-26 13:16:00|          2018-07-30 15:52:25|          2018-08-08 00:00:00|\n|432aaf21d85167c2c...|3df704f53d3f1d481...|   delivered|     2018-03-01 14:14:28|2018-03-01 15:10:47|         2018-03-02 21:09:20|          2018-03-12 23:36:26|          2018-03-21 00:00:00|\n|dcb36b511fcac050b...|3b6828a50ffe54694...|   delivered|     2018-06-07 19:03:12|2018-06-12 23:31:02|         2018-06-11 14:54:00|          2018-06-21 15:34:32|          2018-07-04 00:00:00|\n|403b97836b0c04a62...|738b086814c6fcc74...|   delivered|     2018-01-02 19:00:43|2018-01-02 19:09:04|         2018-01-03 18:19:09|          2018-01-20 01:38:59|          2018-02-06 00:00:00|\n|116f0b09343b49556...|3187789bec9909876...|   delivered|     2017-12-26 23:41:31|2017-12-26 23:50:22|         2017-12-28 18:33:05|          2018-01-08 22:36:36|          2018-01-29 00:00:00|\n|85ce859fd6dc634de...|059f7fc5719c7da6c...|   delivered|     2017-11-21 00:03:41|2017-11-21 00:14:22|         2017-11-23 21:32:26|          2017-11-27 18:28:00|          2017-12-11 00:00:00|\n|83018ec114eee8641...|7f8c8b9c2ae27bf33...|   delivered|     2017-10-26 15:54:26|2017-10-26 16:08:14|         2017-10-26 21:46:53|          2017-11-08 22:22:00|          2017-11-23 00:00:00|\n+--------------------+--------------------+------------+------------------------+-------------------+----------------------------+-----------------------------+-----------------------------+\nonly showing top 20 rows\n"
     ]
    }
   ],
   "source": [
    "from pyspark.sql.functions import lit\n",
    "\n",
    "# Example: Fill missing timestamp columns with date\n",
    "df_orders_filled = df_orders.fillna({\n",
    "    \"order_id\": \"unknown_order\",\n",
    "    \"order_approved_at\": \"2025-01-02 00:00:00\",\n",
    "    \"order_delivered_carrier_date\": \"2025-01-03 00:00:00\",\n",
    "    \"order_delivered_customer_date\": \"2025-01-04 00:00:00\",\n",
    "    \"order_estimated_delivery_date\": \"2025-01-05 00:00:00\"\n",
    "})\n",
    "\n",
    "# Show result\n",
    "df_orders_filled.show()\n"
   ]
  },
  {
   "cell_type": "code",
   "execution_count": 0,
   "metadata": {
    "application/vnd.databricks.v1+cell": {
     "cellMetadata": {
      "byteLimit": 2048000,
      "rowLimit": 10000
     },
     "inputWidgets": {},
     "nuid": "2a39feb0-c1bf-4261-a169-da7dbc543a39",
     "showTitle": false,
     "tableResultSettingsMap": {},
     "title": ""
    }
   },
   "outputs": [],
   "source": [
    "df_customers_filled = df_customers.fillna({\n",
    "    \"customer_city\": \"Unknown\",\n",
    "    \"customer_state\": \"Unknown\"\n",
    "})\n"
   ]
  },
  {
   "cell_type": "code",
   "execution_count": 0,
   "metadata": {
    "application/vnd.databricks.v1+cell": {
     "cellMetadata": {
      "byteLimit": 2048000,
      "rowLimit": 10000
     },
     "inputWidgets": {},
     "nuid": "cc96ed90-600a-4315-a846-519939867096",
     "showTitle": false,
     "tableResultSettingsMap": {},
     "title": ""
    }
   },
   "outputs": [],
   "source": [
    "df_geolocation_filled = df_geolocation.fillna({\n",
    "    \"geolocation_city\": \"Unknown\",\n",
    "    \"geolocation_state\": \"Unknown\"\n",
    "})\n"
   ]
  },
  {
   "cell_type": "code",
   "execution_count": 0,
   "metadata": {
    "application/vnd.databricks.v1+cell": {
     "cellMetadata": {
      "byteLimit": 2048000,
      "rowLimit": 10000
     },
     "inputWidgets": {},
     "nuid": "c55aa823-080e-4fef-b724-f5ff8193c25a",
     "showTitle": false,
     "tableResultSettingsMap": {},
     "title": ""
    }
   },
   "outputs": [],
   "source": [
    "df_order_items_filled = df_order_items.fillna({\n",
    "    \"shipping_limit_date\": \"1900-01-01 00:00:00\",\n",
    "    \"price\": 0,\n",
    "    \"freight_value\": 0\n",
    "})\n"
   ]
  },
  {
   "cell_type": "code",
   "execution_count": 0,
   "metadata": {
    "application/vnd.databricks.v1+cell": {
     "cellMetadata": {
      "byteLimit": 2048000,
      "rowLimit": 10000
     },
     "inputWidgets": {},
     "nuid": "65928477-3985-4950-911b-0ace99884a70",
     "showTitle": false,
     "tableResultSettingsMap": {},
     "title": ""
    }
   },
   "outputs": [],
   "source": [
    "df_order_payments_filled = df_order_payments.fillna({\n",
    "    \"payment_type\": \"Unknown\",\n",
    "    \"payment_installments\": 0,\n",
    "    \"payment_value\": 0\n",
    "})\n"
   ]
  },
  {
   "cell_type": "code",
   "execution_count": 0,
   "metadata": {
    "application/vnd.databricks.v1+cell": {
     "cellMetadata": {
      "byteLimit": 2048000,
      "rowLimit": 10000
     },
     "inputWidgets": {},
     "nuid": "5b8f4fc2-148b-4d9f-a302-4c30bc6dc0c2",
     "showTitle": false,
     "tableResultSettingsMap": {},
     "title": ""
    }
   },
   "outputs": [],
   "source": [
    "df_order_reviews_filled = df_order_reviews.fillna({\n",
    "    \"review_comment_title\": \"Unknown\",\n",
    "    \"review_comment_message\": \"No Comment\",\n",
    "    \"review_score\": 0,\n",
    "    \"review_creation_date\": \"1900-01-01 00:00:00\",\n",
    "    \"review_answer_timestamp\": \"1900-01-01 00:00:00\"\n",
    "})\n"
   ]
  },
  {
   "cell_type": "code",
   "execution_count": 0,
   "metadata": {
    "application/vnd.databricks.v1+cell": {
     "cellMetadata": {
      "byteLimit": 2048000,
      "rowLimit": 10000
     },
     "inputWidgets": {},
     "nuid": "4e5a14a1-4741-4766-9d02-5e57dbf479bc",
     "showTitle": false,
     "tableResultSettingsMap": {},
     "title": ""
    }
   },
   "outputs": [],
   "source": [
    "df_products_filled = df_products.fillna({\n",
    "    \"product_category_name\": \"Unknown\",\n",
    "    \"product_name_lenght\": 0,\n",
    "    \"product_description_lenght\": 0,\n",
    "    \"product_photos_qty\": 0,\n",
    "    \"product_weight_g\": 0,\n",
    "    \"product_length_cm\": 0,\n",
    "    \"product_height_cm\": 0,\n",
    "    \"product_width_cm\": 0\n",
    "})\n"
   ]
  },
  {
   "cell_type": "code",
   "execution_count": 0,
   "metadata": {
    "application/vnd.databricks.v1+cell": {
     "cellMetadata": {
      "byteLimit": 2048000,
      "rowLimit": 10000
     },
     "inputWidgets": {},
     "nuid": "bafd1ff2-0871-4f54-98d8-4bf601876dec",
     "showTitle": false,
     "tableResultSettingsMap": {},
     "title": ""
    }
   },
   "outputs": [],
   "source": [
    "df_sellers_filled = df_sellers.fillna({\n",
    "    \"seller_city\": \"Unknown\",\n",
    "    \"seller_state\": \"Unknown\"\n",
    "})\n"
   ]
  },
  {
   "cell_type": "code",
   "execution_count": 0,
   "metadata": {
    "application/vnd.databricks.v1+cell": {
     "cellMetadata": {
      "byteLimit": 2048000,
      "rowLimit": 10000
     },
     "inputWidgets": {},
     "nuid": "643cd491-63ff-488a-a0ec-3cf6f09669b2",
     "showTitle": false,
     "tableResultSettingsMap": {},
     "title": ""
    }
   },
   "outputs": [],
   "source": [
    "df_product_category_name_translation_filled = df_product_category_name_translation.fillna({\n",
    "    \"product_category_name_english\": \"Unknown\"\n",
    "})\n"
   ]
  },
  {
   "cell_type": "code",
   "execution_count": 0,
   "metadata": {
    "application/vnd.databricks.v1+cell": {
     "cellMetadata": {
      "byteLimit": 2048000,
      "rowLimit": 10000
     },
     "inputWidgets": {},
     "nuid": "a673bf5c-045b-4bac-84a0-4de9cb416b8b",
     "showTitle": false,
     "tableResultSettingsMap": {},
     "title": ""
    }
   },
   "outputs": [],
   "source": [
    "from pyspark.sql.functions import col, when, count\n",
    "\n",
    "def check_missing_values(df, name):\n",
    "    print(f\"Null values in {name}:\")\n",
    "    df.select([count(when(col(c).isNull(), 1)).alias(c) for c in df.columns]).show(truncate=False)\n"
   ]
  },
  {
   "cell_type": "code",
   "execution_count": 0,
   "metadata": {
    "application/vnd.databricks.v1+cell": {
     "cellMetadata": {
      "byteLimit": 2048000,
      "rowLimit": 10000
     },
     "inputWidgets": {},
     "nuid": "b5c12554-12a2-4a63-8b63-c330e47429e3",
     "showTitle": false,
     "tableResultSettingsMap": {},
     "title": ""
    }
   },
   "outputs": [
    {
     "output_type": "stream",
     "name": "stdout",
     "output_type": "stream",
     "text": [
      "Null values in df_customers_filled:\n+-----------+------------------+------------------------+-------------+--------------+\n|customer_id|customer_unique_id|customer_zip_code_prefix|customer_city|customer_state|\n+-----------+------------------+------------------------+-------------+--------------+\n|0          |0                 |0                       |0            |0             |\n+-----------+------------------+------------------------+-------------+--------------+\n\nNull values in df_geolocation_filled:\n+---------------------------+---------------+---------------+----------------+-----------------+\n|geolocation_zip_code_prefix|geolocation_lat|geolocation_lng|geolocation_city|geolocation_state|\n+---------------------------+---------------+---------------+----------------+-----------------+\n|0                          |0              |0              |0               |0                |\n+---------------------------+---------------+---------------+----------------+-----------------+\n\nNull values in df_order_items_filled:\n+--------+-------------+----------+---------+-------------------+-----+-------------+\n|order_id|order_item_id|product_id|seller_id|shipping_limit_date|price|freight_value|\n+--------+-------------+----------+---------+-------------------+-----+-------------+\n|0       |0            |0         |0        |0                  |0    |0            |\n+--------+-------------+----------+---------+-------------------+-----+-------------+\n\nNull values in df_order_payments_filled:\n+--------+------------------+------------+--------------------+-------------+\n|order_id|payment_sequential|payment_type|payment_installments|payment_value|\n+--------+------------------+------------+--------------------+-------------+\n|0       |0                 |0           |0                   |0            |\n+--------+------------------+------------+--------------------+-------------+\n\nNull values in df_order_reviews_filled:\n+---------+--------+------------+--------------------+----------------------+--------------------+-----------------------+\n|review_id|order_id|review_score|review_comment_title|review_comment_message|review_creation_date|review_answer_timestamp|\n+---------+--------+------------+--------------------+----------------------+--------------------+-----------------------+\n|1        |2236    |0           |0                   |0                     |0                   |0                      |\n+---------+--------+------------+--------------------+----------------------+--------------------+-----------------------+\n\nNull values in df_orders_filled:\n+--------+-----------+------------+------------------------+-----------------+----------------------------+-----------------------------+-----------------------------+\n|order_id|customer_id|order_status|order_purchase_timestamp|order_approved_at|order_delivered_carrier_date|order_delivered_customer_date|order_estimated_delivery_date|\n+--------+-----------+------------+------------------------+-----------------+----------------------------+-----------------------------+-----------------------------+\n|0       |0          |0           |0                       |0                |0                           |0                            |0                            |\n+--------+-----------+------------+------------------------+-----------------+----------------------------+-----------------------------+-----------------------------+\n\nNull values in df_products_filled:\n+----------+---------------------+-------------------+--------------------------+------------------+----------------+-----------------+-----------------+----------------+\n|product_id|product_category_name|product_name_lenght|product_description_lenght|product_photos_qty|product_weight_g|product_length_cm|product_height_cm|product_width_cm|\n+----------+---------------------+-------------------+--------------------------+------------------+----------------+-----------------+-----------------+----------------+\n|0         |0                    |0                  |0                         |0                 |0               |0                |0                |0               |\n+----------+---------------------+-------------------+--------------------------+------------------+----------------+-----------------+-----------------+----------------+\n\nNull values in df_sellers_filled:\n+---------+----------------------+-----------+------------+\n|seller_id|seller_zip_code_prefix|seller_city|seller_state|\n+---------+----------------------+-----------+------------+\n|0        |0                     |0          |0           |\n+---------+----------------------+-----------+------------+\n\nNull values in df_product_category_name_translation_filled:\n+---------------------+-----------------------------+\n|product_category_name|product_category_name_english|\n+---------------------+-----------------------------+\n|0                    |0                            |\n+---------------------+-----------------------------+\n\n"
     ]
    }
   ],
   "source": [
    "check_missing_values(df_customers_filled, \"df_customers_filled\")\n",
    "check_missing_values(df_geolocation_filled, \"df_geolocation_filled\")\n",
    "check_missing_values(df_order_items_filled, \"df_order_items_filled\")\n",
    "check_missing_values(df_order_payments_filled, \"df_order_payments_filled\")\n",
    "check_missing_values(df_order_reviews_filled, \"df_order_reviews_filled\")\n",
    "check_missing_values(df_orders_filled, \"df_orders_filled\")\n",
    "check_missing_values(df_products_filled, \"df_products_filled\")\n",
    "check_missing_values(df_sellers_filled, \"df_sellers_filled\")\n",
    "check_missing_values(df_product_category_name_translation_filled, \"df_product_category_name_translation_filled\")\n"
   ]
  },
  {
   "cell_type": "code",
   "execution_count": 0,
   "metadata": {
    "application/vnd.databricks.v1+cell": {
     "cellMetadata": {
      "byteLimit": 2048000,
      "rowLimit": 10000
     },
     "inputWidgets": {},
     "nuid": "59aecb20-ee65-435f-aa97-1a87fbf84b81",
     "showTitle": false,
     "tableResultSettingsMap": {},
     "title": ""
    }
   },
   "outputs": [
    {
     "output_type": "stream",
     "name": "stdout",
     "output_type": "stream",
     "text": [
      "Missing payment_value count: 0\nMissing payment_value percentage: 0.00%\n"
     ]
    }
   ],
   "source": [
    "#Inpute Missing Values\n",
    "from pyspark.sql.functions import col, sum as _sum\n",
    "\n",
    "# Count missing (null or empty) payment_value entries\n",
    "missing_payment_count = df_order_payments.filter(\n",
    "    (col(\"payment_value\").isNull()) | (col(\"payment_value\") == \"\")\n",
    ").count()\n",
    "\n",
    "print(f\"Missing payment_value count: {missing_payment_count}\")\n",
    "\n",
    "# If you want percentage of missing values:\n",
    "total_rows = df_order_payments.count()\n",
    "missing_percentage = (missing_payment_count / total_rows) * 100\n",
    "print(f\"Missing payment_value percentage: {missing_percentage:.2f}%\")\n",
    "\n",
    "\n"
   ]
  },
  {
   "cell_type": "code",
   "execution_count": 0,
   "metadata": {
    "application/vnd.databricks.v1+cell": {
     "cellMetadata": {
      "byteLimit": 2048000,
      "rowLimit": 10000
     },
     "inputWidgets": {},
     "nuid": "5ab4eac4-7b07-4aef-9e3c-4094eddb264b",
     "showTitle": false,
     "tableResultSettingsMap": {},
     "title": ""
    }
   },
   "outputs": [
    {
     "output_type": "stream",
     "name": "stdout",
     "output_type": "stream",
     "text": [
      "+--------+------------------+------------+--------------------+-------------+\n|order_id|payment_sequential|payment_type|payment_installments|payment_value|\n+--------+------------------+------------+--------------------+-------------+\n+--------+------------------+------------+--------------------+-------------+\n\n"
     ]
    }
   ],
   "source": [
    "df_order_payments.filter(\n",
    "    (col(\"payment_value\").isNull()) | (col(\"payment_value\") == \"\")\n",
    ").show()\n"
   ]
  },
  {
   "cell_type": "code",
   "execution_count": 0,
   "metadata": {
    "application/vnd.databricks.v1+cell": {
     "cellMetadata": {
      "byteLimit": 2048000,
      "rowLimit": 10000
     },
     "inputWidgets": {},
     "nuid": "5631ab64-23b9-4bfd-9599-2e61eedabee9",
     "showTitle": false,
     "tableResultSettingsMap": {},
     "title": ""
    }
   },
   "outputs": [
    {
     "output_type": "stream",
     "name": "stdout",
     "output_type": "stream",
     "text": [
      "root\n |-- customer_id: string (nullable = true)\n |-- customer_unique_id: string (nullable = true)\n |-- customer_zip_code_prefix: string (nullable = true)\n |-- customer_city: string (nullable = true)\n |-- customer_state: string (nullable = true)\n\nroot\n |-- geolocation_zip_code_prefix: string (nullable = true)\n |-- geolocation_lat: string (nullable = true)\n |-- geolocation_lng: string (nullable = true)\n |-- geolocation_city: string (nullable = true)\n |-- geolocation_state: string (nullable = true)\n\nroot\n |-- order_id: string (nullable = true)\n |-- order_item_id: string (nullable = true)\n |-- product_id: string (nullable = true)\n |-- seller_id: string (nullable = true)\n |-- shipping_limit_date: string (nullable = true)\n |-- price: string (nullable = true)\n |-- freight_value: string (nullable = true)\n\nroot\n |-- order_id: string (nullable = true)\n |-- payment_sequential: string (nullable = true)\n |-- payment_type: string (nullable = true)\n |-- payment_installments: string (nullable = true)\n |-- payment_value: string (nullable = true)\n\nroot\n |-- review_id: string (nullable = true)\n |-- order_id: string (nullable = true)\n |-- review_score: string (nullable = true)\n |-- review_comment_title: string (nullable = true)\n |-- review_comment_message: string (nullable = true)\n |-- review_creation_date: string (nullable = true)\n |-- review_answer_timestamp: string (nullable = true)\n\nroot\n |-- order_id: string (nullable = true)\n |-- customer_id: string (nullable = true)\n |-- order_status: string (nullable = true)\n |-- order_purchase_timestamp: string (nullable = true)\n |-- order_approved_at: string (nullable = true)\n |-- order_delivered_carrier_date: string (nullable = true)\n |-- order_delivered_customer_date: string (nullable = true)\n |-- order_estimated_delivery_date: string (nullable = true)\n\nroot\n |-- product_id: string (nullable = true)\n |-- product_category_name: string (nullable = true)\n |-- product_name_lenght: string (nullable = true)\n |-- product_description_lenght: string (nullable = true)\n |-- product_photos_qty: string (nullable = true)\n |-- product_weight_g: string (nullable = true)\n |-- product_length_cm: string (nullable = true)\n |-- product_height_cm: string (nullable = true)\n |-- product_width_cm: string (nullable = true)\n\nroot\n |-- seller_id: string (nullable = true)\n |-- seller_zip_code_prefix: string (nullable = true)\n |-- seller_city: string (nullable = true)\n |-- seller_state: string (nullable = true)\n\nroot\n |-- product_category_name: string (nullable = true)\n |-- product_category_name_english: string (nullable = true)\n\n"
     ]
    }
   ],
   "source": [
    "df_customers.printSchema()\n",
    "df_geolocation.printSchema()\n",
    "df_order_items.printSchema()\n",
    "df_order_payments.printSchema()\n",
    "df_order_reviews.printSchema()\n",
    "df_orders.printSchema()\n",
    "df_products.printSchema()\n",
    "df_sellers.printSchema()\n",
    "df_product_category_name_translation.printSchema()\n"
   ]
  },
  {
   "cell_type": "markdown",
   "metadata": {
    "application/vnd.databricks.v1+cell": {
     "cellMetadata": {},
     "inputWidgets": {},
     "nuid": "3894eb25-f06d-4b42-9814-35a7d4e215fd",
     "showTitle": false,
     "tableResultSettingsMap": {},
     "title": ""
    }
   },
   "source": [
    "#Standarizing the format\n"
   ]
  },
  {
   "cell_type": "code",
   "execution_count": 0,
   "metadata": {
    "application/vnd.databricks.v1+cell": {
     "cellMetadata": {
      "byteLimit": 2048000,
      "rowLimit": 10000
     },
     "inputWidgets": {},
     "nuid": "74d3a7cf-8e78-4fcb-a316-fc4f479cd81b",
     "showTitle": false,
     "tableResultSettingsMap": {},
     "title": ""
    }
   },
   "outputs": [
    {
     "output_type": "stream",
     "name": "stdout",
     "output_type": "stream",
     "text": [
      "root\n |-- customer_id: string (nullable = true)\n |-- customer_unique_id: string (nullable = true)\n |-- customer_zip_code_prefix: integer (nullable = true)\n |-- customer_city: string (nullable = true)\n |-- customer_state: string (nullable = true)\n\n+--------------------+--------------------+------------------------+--------------------+--------------+\n|         customer_id|  customer_unique_id|customer_zip_code_prefix|       customer_city|customer_state|\n+--------------------+--------------------+------------------------+--------------------+--------------+\n|06b8999e2fba1a1fb...|861eff4711a542e4b...|                   14409|              franca|            SP|\n|18955e83d337fd6b2...|290c77bc529b7ac93...|                    9790|sao bernardo do c...|            SP|\n|4e7b3e00288586ebd...|060e732b5b29e8181...|                    1151|           sao paulo|            SP|\n|b2b6027bc5c5109e5...|259dac757896d24d7...|                    8775|     mogi das cruzes|            SP|\n|4f2d8ab171c80ec83...|345ecd01c38d18a90...|                   13056|            campinas|            SP|\n+--------------------+--------------------+------------------------+--------------------+--------------+\nonly showing top 5 rows\n"
     ]
    }
   ],
   "source": [
    "from pyspark.sql.functions import col, regexp_replace, to_timestamp\n",
    "\n",
    "def standardize_customers(df):\n",
    "    # 1️⃣ Clean column names\n",
    "    for col_name in df.columns:\n",
    "        new_name = col_name.strip().lower().replace(\" \", \"_\")\n",
    "        df = df.withColumnRenamed(col_name, new_name)\n",
    "    \n",
    "    # 2️⃣ Convert date columns to standard timestamp format (if present)\n",
    "    date_columns = [c for c in df.columns if \"date\" in c or \"dt\" in c]\n",
    "    for dc in date_columns:\n",
    "        df = df.withColumn(dc, to_timestamp(col(dc), \"yyyy-MM-dd HH:mm:ss\"))\n",
    "    \n",
    "    # 3️⃣ Ensure numeric columns are in numeric type (example: customer_zip_code_prefix)\n",
    "    if \"customer_zip_code_prefix\" in df.columns:\n",
    "        df = df.withColumn(\n",
    "            \"customer_zip_code_prefix\",\n",
    "            regexp_replace(col(\"customer_zip_code_prefix\"), \",\", \"\").cast(\"int\")\n",
    "        )\n",
    "    \n",
    "    return df\n",
    "\n",
    "df_customers = standardize_customers(df_customers)\n",
    "\n",
    "df_customers.printSchema()\n",
    "df_customers.show(5)\n"
   ]
  },
  {
   "cell_type": "markdown",
   "metadata": {
    "application/vnd.databricks.v1+cell": {
     "cellMetadata": {},
     "inputWidgets": {},
     "nuid": "e4903c13-4553-4fb0-a18d-93c242f672d5",
     "showTitle": false,
     "tableResultSettingsMap": {},
     "title": ""
    }
   },
   "source": [
    "##Joins"
   ]
  },
  {
   "cell_type": "code",
   "execution_count": 0,
   "metadata": {
    "application/vnd.databricks.v1+cell": {
     "cellMetadata": {
      "byteLimit": 2048000,
      "rowLimit": 10000
     },
     "inputWidgets": {},
     "nuid": "bec946d2-c8fd-4cf8-8922-105c8009c4c8",
     "showTitle": false,
     "tableResultSettingsMap": {},
     "title": ""
    }
   },
   "outputs": [
    {
     "output_type": "stream",
     "name": "stdout",
     "output_type": "stream",
     "text": [
      "+--------------------------------+--------------------------------+------------------------+-----------------------+--------------+--------------------------------+------------+------------------------+\n|customer_id                     |customer_unique_id              |customer_zip_code_prefix|customer_city          |customer_state|order_id                        |order_status|order_purchase_timestamp|\n+--------------------------------+--------------------------------+------------------------+-----------------------+--------------+--------------------------------+------------+------------------------+\n|9ef432eb6251297304e76186b10a928d|7c396fd4830fd04220f754e42b4e5bff|3149                    |sao paulo              |SP            |e481f51cbdc54678b7cc49136f2d6af7|delivered   |2017-10-02 10:56:33     |\n|b0830fb4747a6c6d20dea0b8c802d7ef|af07308b275d755c9edb36a90c618231|47813                   |barreiras              |BA            |53cdb2fc8bc7dce0b6741e2150273451|delivered   |2018-07-24 20:41:37     |\n|41ce2a54c0b03bf3443c3d931a367089|3a653a41f6f9fc3d2a113cf8398680e8|75265                   |vianopolis             |GO            |47770eb9100c2d0c44946d9cf07ec65d|delivered   |2018-08-08 08:38:49     |\n|f88197465ea7920adcdbec7375364d82|7c142cf63193a1473d2e66489a9ae977|59296                   |sao goncalo do amarante|RN            |949d5b44dbf5de918fe9c16f97b45f8a|delivered   |2017-11-18 19:28:06     |\n|8ab97904e6daea8866dbdbc4fb7aad2c|72632f0f9dd73dfee390c9b22eb56dd6|9195                    |santo andre            |SP            |ad21c59c0840e6cb83a9ceb5573f8159|delivered   |2018-02-13 21:18:39     |\n|503740e9ca751ccdda7ba28e9ab8f608|80bb27c7c16e8f973207a5086ab329e2|86320                   |congonhinhas           |PR            |a4591c265e18cb1dcee52889e2d8acc3|delivered   |2017-07-09 21:57:05     |\n|ed0271e0b7da060a393796590e7b737a|36edbb3fb164b1f16485364b6fb04c73|98900                   |santa rosa             |RS            |136cce7faa42fdb2cefd53fdc79a6098|invoiced    |2017-04-11 12:22:08     |\n|9bdf08b4b3b52b5526ff42d37d47f222|932afa1e708222e5821dac9cd5db4cae|26525                   |nilopolis              |RJ            |6514b8ad8028c9f2cc2374ded245783f|delivered   |2017-05-16 13:10:30     |\n|f54a9f0e6b351c431402b8461ea51999|39382392765b6dc74812866ee5ee92a7|99655                   |faxinalzinho           |RS            |76c6e866289321a7c93b82b54852dc33|delivered   |2017-01-23 18:29:09     |\n|31ad1d1b63eb9962463f764d4e6e0c9d|299905e3934e9e181bfb2e164dd4b4f8|18075                   |sorocaba               |SP            |e69bfb5eb88e0ed6a785585b27e16dbf|delivered   |2017-07-29 11:55:02     |\n+--------------------------------+--------------------------------+------------------------+-----------------------+--------------+--------------------------------+------------+------------------------+\nonly showing top 10 rows\n"
     ]
    }
   ],
   "source": [
    "# Register DataFrames as temporary views\n",
    "df_customers.createOrReplaceTempView(\"customers\")\n",
    "df_orders.createOrReplaceTempView(\"orders\")\n",
    "\n",
    "# This will join customers → orders using customer_id as the common key.\n",
    "join_query = \"\"\"\n",
    "SELECT \n",
    "    c.customer_id,\n",
    "    c.customer_unique_id,\n",
    "    c.customer_zip_code_prefix,\n",
    "    c.customer_city,\n",
    "    c.customer_state,\n",
    "    o.order_id,\n",
    "    o.order_status,\n",
    "    o.order_purchase_timestamp\n",
    "FROM customers c\n",
    "JOIN orders o\n",
    "    ON c.customer_id = o.customer_id\n",
    "\"\"\"\n",
    "\n",
    "df_customer_orders = spark.sql(join_query)\n",
    "\n",
    "df_customer_orders.show(10, truncate=False)\n"
   ]
  },
  {
   "cell_type": "code",
   "execution_count": 0,
   "metadata": {
    "application/vnd.databricks.v1+cell": {
     "cellMetadata": {
      "byteLimit": 2048000,
      "rowLimit": 10000
     },
     "inputWidgets": {},
     "nuid": "72edf704-5898-4f24-9200-b9b7fa4703fa",
     "showTitle": false,
     "tableResultSettingsMap": {},
     "title": ""
    }
   },
   "outputs": [
    {
     "output_type": "stream",
     "name": "stdout",
     "output_type": "stream",
     "text": [
      "+--------------------------------+-----------------+\n|order_id                        |total_order_value|\n+--------------------------------+-----------------+\n|41b3c9e5e85309a0ddf6fdf03c906b26|118.35           |\n|66102db498a42db4dd18edc624df4a95|143.9            |\n|e178bee213ba3b996d728678aea863a4|58.85            |\n|019886de8f385a39b75bedbb726fd4ef|188.4            |\n|5c3ed80bbf87273549529ebc6a45650d|111.72           |\n|d40dd8018a5302969efb31bd21744cab|49.12            |\n|c5a04e8b14a30499f45857da5edfea7e|58.94            |\n|4ec40a7013b2b2e20429009214c283b4|19.07            |\n|4ec755335e77b43c823c978d570fe48f|178.27           |\n|2107484004fafd3fa95b3ddefb066aed|799.94           |\n+--------------------------------+-----------------+\nonly showing top 10 rows\n"
     ]
    }
   ],
   "source": [
    "orders_payment = spark.read.option(\"header\", True).csv(\n",
    "    \"dbfs:/Volumes/commerce_spark_workspace/default/ecommerce_raw/olist_order_payments_dataset.csv\"\n",
    ")\n",
    "\n",
    "from pyspark.sql.functions import sum as _sum\n",
    "\n",
    "order_with_total_value = orders_payment.groupBy(\"order_id\").agg(\n",
    "    _sum(\"payment_value\").alias(\"total_order_value\")\n",
    ")\n",
    "\n",
    "order_with_total_value.show(10, truncate=False)\n"
   ]
  },
  {
   "cell_type": "markdown",
   "metadata": {
    "application/vnd.databricks.v1+cell": {
     "cellMetadata": {},
     "inputWidgets": {},
     "nuid": "44196c87-1f3f-4fb7-8352-7b3a0e773618",
     "showTitle": false,
     "tableResultSettingsMap": {},
     "title": ""
    }
   },
   "source": [
    "#Advance Transformation"
   ]
  },
  {
   "cell_type": "code",
   "execution_count": 0,
   "metadata": {
    "application/vnd.databricks.v1+cell": {
     "cellMetadata": {
      "byteLimit": 2048000,
      "rowLimit": 10000
     },
     "inputWidgets": {},
     "nuid": "14b545d7-c949-457e-9428-ef2cce915989",
     "showTitle": false,
     "tableResultSettingsMap": {},
     "title": ""
    }
   },
   "outputs": [
    {
     "output_type": "stream",
     "name": "stdout",
     "output_type": "stream",
     "text": [
      "+--------------------+-------------+--------------------+--------------------+-------------------+------+-------------+\n|            order_id|order_item_id|          product_id|           seller_id|shipping_limit_date| price|freight_value|\n+--------------------+-------------+--------------------+--------------------+-------------------+------+-------------+\n|00010242fe8c5a6d1...|            1|4244733e06e7ecb49...|48436dade18ac8b2b...|2017-09-19 09:45:35| 58.90|        13.29|\n|00018f77f2f0320c5...|            1|e5f2d52b802189ee6...|dd7ddc04e1b6c2c61...|2017-05-03 11:05:13|239.90|        19.93|\n|000229ec398224ef6...|            1|c777355d18b72b67a...|5b51032eddd242adc...|2018-01-18 14:48:30|199.00|        17.87|\n|00024acbcdf0a6daa...|            1|7634da152a4610f15...|9d7a1d34a50524090...|2018-08-15 10:10:18| 12.99|        12.79|\n|00042b26cf59d7ce6...|            1|ac6c3623068f30de0...|df560393f3a51e745...|2017-02-13 13:57:51|199.90|        18.14|\n|00048cc3ae777c65d...|            1|ef92defde845ab845...|6426d21aca402a131...|2017-05-23 03:55:27| 21.90|        12.69|\n|00054e8431b9d7675...|            1|8d4f2bb7e93e6710a...|7040e82f899a04d1b...|2017-12-14 12:10:31| 19.90|        11.85|\n|000576fe39319847c...|            1|557d850972a7d6f79...|5996cddab893a4652...|2018-07-10 12:30:45|810.00|        70.75|\n|0005a1a1728c9d785...|            1|310ae3c140ff94b03...|a416b6a846a117243...|2018-03-26 18:31:29|145.95|        11.65|\n|0005f50442cb953dc...|            1|4535b0e1091c278df...|ba143b05f0110f0dc...|2018-07-06 14:10:56| 53.99|        11.40|\n|00061f2a7bc09da83...|            1|d63c1011f49d98b97...|cc419e0650a3c5ba7...|2018-03-29 22:28:09| 59.99|         8.88|\n|00063b381e2406b52...|            1|f177554ea93259a5b...|8602a61d680a10a82...|2018-07-31 17:30:39| 45.00|        12.98|\n|0006ec9db01a64e59...|            1|99a4788cb24856965...|4a3ca9315b744ce9f...|2018-07-26 17:24:20| 74.00|        23.32|\n|0008288aa423d2a3f...|            1|368c6c730842d7801...|1f50f920176fa81da...|2018-02-21 02:55:52| 49.90|        13.37|\n|0008288aa423d2a3f...|            2|368c6c730842d7801...|1f50f920176fa81da...|2018-02-21 02:55:52| 49.90|        13.37|\n|0009792311464db53...|            1|8cab8abac59158715...|530ec6109d11eaaf8...|2018-08-17 12:15:10| 99.90|        27.65|\n|0009c9a17f916a706...|            1|3f27ac8e699df3d30...|fcb5ace8bcc92f757...|2018-05-02 09:31:53|639.00|        11.34|\n|000aed2e25dbad2f9...|            1|4fa33915031a8cde0...|fe2032dab1a61af87...|2018-05-16 20:57:03|144.00|         8.77|\n|000c3e6612759851c...|            1|b50c950aba0dcead2...|218d46b86c1881d02...|2017-08-21 03:33:13| 99.00|        13.71|\n|000e562887b1f2006...|            1|5ed9eaf534f6936b5...|8cbac7e12637ed9cf...|2018-02-28 12:08:37| 25.00|        16.11|\n+--------------------+-------------+--------------------+--------------------+-------------------+------+-------------+\nonly showing top 20 rows\n"
     ]
    }
   ],
   "source": [
    "df_order_items.show()"
   ]
  },
  {
   "cell_type": "code",
   "execution_count": 0,
   "metadata": {
    "application/vnd.databricks.v1+cell": {
     "cellMetadata": {
      "byteLimit": 2048000,
      "rowLimit": 10000
     },
     "inputWidgets": {},
     "nuid": "ffb9779e-eef3-40ab-a6ed-51a35a07502d",
     "showTitle": false,
     "tableResultSettingsMap": {},
     "title": ""
    }
   },
   "outputs": [
    {
     "output_type": "stream",
     "name": "stdout",
     "output_type": "stream",
     "text": [
      "Low cutoff: 9.99, high cutoff: 890.0\n"
     ]
    }
   ],
   "source": [
    "quantiles = df_order_items.withColumn(\"price\", col(\"price\").cast(\"double\")).approxQuantile(\"price\", [0.01, 0.99], 0.0)\n",
    "low_cutoff, high_cutoff = quantiles[0], quantiles[1]\n",
    "print(f\"Low cutoff: {low_cutoff}, high cutoff: {high_cutoff}\")"
   ]
  },
  {
   "cell_type": "code",
   "execution_count": 0,
   "metadata": {
    "application/vnd.databricks.v1+cell": {
     "cellMetadata": {
      "byteLimit": 2048000,
      "rowLimit": 10000
     },
     "inputWidgets": {},
     "nuid": "584ca41e-3fac-499e-b937-040ab8938405",
     "showTitle": false,
     "tableResultSettingsMap": {},
     "title": ""
    }
   },
   "outputs": [],
   "source": [
    "df_filtered = df_order_items.filter((col(\"price\") >= low_cutoff) & (col(\"price\") <= high_cutoff))\n"
   ]
  },
  {
   "cell_type": "code",
   "execution_count": 0,
   "metadata": {
    "application/vnd.databricks.v1+cell": {
     "cellMetadata": {
      "byteLimit": 2048000,
      "rowLimit": 10000
     },
     "inputWidgets": {},
     "nuid": "fbc9bb95-56f9-43e9-9b56-c60a62280270",
     "showTitle": false,
     "tableResultSettingsMap": {},
     "title": ""
    }
   },
   "outputs": [],
   "source": [
    "df_products_cleansed = df_products.withColumn(\n",
    "    'product_size_category',\n",
    "    when(col('product_weight_g') < 500, 'small').\n",
    "    when(col('product_weight_g').between(500, 1000), 'medium')\n",
    "    .otherwise('Large')\n",
    ")   "
   ]
  },
  {
   "cell_type": "code",
   "execution_count": 0,
   "metadata": {
    "application/vnd.databricks.v1+cell": {
     "cellMetadata": {
      "byteLimit": 2048000,
      "rowLimit": 10000
     },
     "inputWidgets": {},
     "nuid": "1d5e6a0d-2b75-4d3f-8df4-75f1e4aecb81",
     "showTitle": false,
     "tableResultSettingsMap": {},
     "title": ""
    }
   },
   "outputs": [
    {
     "output_type": "stream",
     "name": "stdout",
     "output_type": "stream",
     "text": [
      "+--------------------+---------------------+-------------------+--------------------------+------------------+----------------+-----------------+-----------------+----------------+---------------------+\n|          product_id|product_category_name|product_name_lenght|product_description_lenght|product_photos_qty|product_weight_g|product_length_cm|product_height_cm|product_width_cm|product_size_category|\n+--------------------+---------------------+-------------------+--------------------------+------------------+----------------+-----------------+-----------------+----------------+---------------------+\n|1e9e8ef04dbcff454...|           perfumaria|                 40|                       287|                 1|             225|               16|               10|              14|                small|\n|3aa071139cb16b67c...|                artes|                 44|                       276|                 1|            1000|               30|               18|              20|               medium|\n|96bd76ec8810374ed...|        esporte_lazer|                 46|                       250|                 1|             154|               18|                9|              15|                small|\n|cef67bcfe19066a93...|                bebes|                 27|                       261|                 1|             371|               26|                4|              26|                small|\n|9dc1a7de274444849...| utilidades_domest...|                 37|                       402|                 4|             625|               20|               17|              13|               medium|\n|41d3672d4792049fa...| instrumentos_musi...|                 60|                       745|                 1|             200|               38|                5|              11|                small|\n|732bd381ad09e530f...|           cool_stuff|                 56|                      1272|                 4|           18350|               70|               24|              44|                Large|\n|2548af3e6e77a690c...|     moveis_decoracao|                 56|                       184|                 2|             900|               40|                8|              40|               medium|\n|37cc742be07708b53...|     eletrodomesticos|                 57|                       163|                 1|             400|               27|               13|              17|                small|\n|8c92109888e8cdf9d...|           brinquedos|                 36|                      1156|                 1|             600|               17|               10|              12|               medium|\n|14aa47b7fe5c25522...|      cama_mesa_banho|                 54|                       630|                 1|            1100|               16|               10|              16|                Large|\n|03b63c5fc16691530...|                bebes|                 49|                       728|                 4|            7150|               50|               19|              45|                Large|\n|cf55509ea8edaaac1...| instrumentos_musi...|                 43|                      1827|                 3|             250|               17|                7|              17|                small|\n|7bb6f29c2be577161...|     moveis_decoracao|                 51|                      2083|                 2|             600|               68|               11|              13|               medium|\n|eb31436580a610f20...| construcao_ferram...|                 59|                      1602|                 4|             200|               17|                7|              17|                small|\n|3bb7f144022e67327...|        esporte_lazer|                 22|                      3021|                 1|             800|               16|                2|              11|               medium|\n|6a2fb4dd53d2cdb88...|           perfumaria|                 39|                       346|                 2|             400|               27|                5|              20|                small|\n|a1b71017a84f92fd8...| informatica_acess...|                 59|                       636|                 1|             900|               40|               15|              20|               medium|\n|a0736b92e52f6cead...|     moveis_decoracao|                 56|                       296|                 2|            1700|              100|                7|              15|                Large|\n|f53103a77d9cf245e...|      cama_mesa_banho|                 52|                       206|                 1|             500|               16|               10|              16|               medium|\n+--------------------+---------------------+-------------------+--------------------------+------------------+----------------+-----------------+-----------------+----------------+---------------------+\nonly showing top 20 rows\n"
     ]
    }
   ],
   "source": [
    "df_products_cleansed.show()"
   ]
  },
  {
   "cell_type": "code",
   "execution_count": 0,
   "metadata": {
    "application/vnd.databricks.v1+cell": {
     "cellMetadata": {
      "byteLimit": 2048000,
      "rowLimit": 10000
     },
     "inputWidgets": {},
     "nuid": "be0425f6-584f-4c7a-a122-b3c788c65d69",
     "showTitle": false,
     "tableResultSettingsMap": {},
     "title": ""
    }
   },
   "outputs": [
    {
     "output_type": "stream",
     "name": "stdout",
     "output_type": "stream",
     "text": [
      "+--------------------+------------------+\n|           seller_id|     total_revenue|\n+--------------------+------------------+\n|0691148aee60ca479...| 5868.510000000001|\n|fa14641f57b655e93...|            359.93|\n|87d3c3aeb3ead3355...|            749.35|\n|3364a91ec4d56c98e...|3579.9399999999996|\n|3d4824f20035949c7...|           1041.04|\n|1e47defeeadeca0e9...|            234.12|\n|fb3cfbc8a86f5d7fb...|1007.2999999999998|\n|4a1f694197d05fe70...| 907.7700000000001|\n|b0b346d3a89f5eb4c...|             614.0|\n|2ff6b7bff164ef055...|           1803.59|\n|e84ad2127668df3aa...|             987.0|\n|cac63f48c38cd7d00...|             874.0|\n|daeb5653dd96c1b11...|            2305.9|\n|596849622429351f4...|1104.6999999999998|\n|7daca0837f033a41a...|1228.9799999999998|\n|00fc707aaaad2d313...|           12684.9|\n|134a288e7de827ec5...|            877.45|\n|0d85bbda9889ce1f7...|            4845.2|\n|dc4a0fc896dc34b0d...|24180.770000000004|\n|2a7c6c0b0d5efde2b...|             147.6|\n+--------------------+------------------+\nonly showing top 20 rows\n"
     ]
    }
   ],
   "source": [
    "from pyspark.sql.functions import col, sum as _sum\n",
    "\n",
    "# Total revenue per seller (only product price)\n",
    "df_total_revenue = df_order_items.groupBy(\"seller_id\") \\\n",
    "    .agg(_sum(col(\"price\").cast(\"double\")).alias(\"total_revenue\"))\n",
    "\n",
    "df_total_revenue.show()\n"
   ]
  }
 ],
 "metadata": {
  "application/vnd.databricks.v1+notebook": {
   "computePreferences": {
    "hardware": {
     "accelerator": null,
     "gpuPoolId": null,
     "memory": null
    }
   },
   "dashboards": [],
   "environmentMetadata": {
    "base_environment": "",
    "environment_version": "2"
   },
   "inputWidgetPreferences": null,
   "language": "python",
   "notebookMetadata": {
    "mostRecentlyExecutedCommandWithImplicitDF": {
     "commandId": 8783742777138369,
     "dataframes": [
      "_sqldf"
     ]
    },
    "pythonIndentUnit": 4
   },
   "notebookName": "Data Cleaning and transformation",
   "widgets": {}
  },
  "language_info": {
   "name": "python"
  }
 },
 "nbformat": 4,
 "nbformat_minor": 0
}